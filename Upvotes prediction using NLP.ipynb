{
 "cells": [
  {
   "cell_type": "code",
   "execution_count": 35,
   "metadata": {
    "id": "KLyaZOxTdSRt"
   },
   "outputs": [],
   "source": [
    "import pandas as pd\n",
    "import numpy as np"
   ]
  },
  {
   "cell_type": "code",
   "execution_count": 36,
   "metadata": {
    "colab": {
     "base_uri": "https://localhost:8080/",
     "height": 195
    },
    "id": "XJ7TVBTkdSR6",
    "outputId": "80c74c23-fbf4-4d46-c639-91a20e0e1698"
   },
   "outputs": [
    {
     "data": {
      "text/html": [
       "<div>\n",
       "<style scoped>\n",
       "    .dataframe tbody tr th:only-of-type {\n",
       "        vertical-align: middle;\n",
       "    }\n",
       "\n",
       "    .dataframe tbody tr th {\n",
       "        vertical-align: top;\n",
       "    }\n",
       "\n",
       "    .dataframe thead th {\n",
       "        text-align: right;\n",
       "    }\n",
       "</style>\n",
       "<table border=\"1\" class=\"dataframe\">\n",
       "  <thead>\n",
       "    <tr style=\"text-align: right;\">\n",
       "      <th></th>\n",
       "      <th>time_created</th>\n",
       "      <th>date_created</th>\n",
       "      <th>up_votes</th>\n",
       "      <th>down_votes</th>\n",
       "      <th>title</th>\n",
       "      <th>over_18</th>\n",
       "      <th>author</th>\n",
       "      <th>category</th>\n",
       "    </tr>\n",
       "  </thead>\n",
       "  <tbody>\n",
       "    <tr>\n",
       "      <th>0</th>\n",
       "      <td>1201232046</td>\n",
       "      <td>2008-01-25</td>\n",
       "      <td>3</td>\n",
       "      <td>0</td>\n",
       "      <td>Scores killed in Pakistan clashes</td>\n",
       "      <td>False</td>\n",
       "      <td>polar</td>\n",
       "      <td>worldnews</td>\n",
       "    </tr>\n",
       "    <tr>\n",
       "      <th>1</th>\n",
       "      <td>1201232075</td>\n",
       "      <td>2008-01-25</td>\n",
       "      <td>2</td>\n",
       "      <td>0</td>\n",
       "      <td>Japan resumes refuelling mission</td>\n",
       "      <td>False</td>\n",
       "      <td>polar</td>\n",
       "      <td>worldnews</td>\n",
       "    </tr>\n",
       "    <tr>\n",
       "      <th>2</th>\n",
       "      <td>1201232523</td>\n",
       "      <td>2008-01-25</td>\n",
       "      <td>3</td>\n",
       "      <td>0</td>\n",
       "      <td>US presses Egypt on Gaza border</td>\n",
       "      <td>False</td>\n",
       "      <td>polar</td>\n",
       "      <td>worldnews</td>\n",
       "    </tr>\n",
       "    <tr>\n",
       "      <th>3</th>\n",
       "      <td>1201233290</td>\n",
       "      <td>2008-01-25</td>\n",
       "      <td>1</td>\n",
       "      <td>0</td>\n",
       "      <td>Jump-start economy: Give health care to all</td>\n",
       "      <td>False</td>\n",
       "      <td>fadi420</td>\n",
       "      <td>worldnews</td>\n",
       "    </tr>\n",
       "    <tr>\n",
       "      <th>4</th>\n",
       "      <td>1201274720</td>\n",
       "      <td>2008-01-25</td>\n",
       "      <td>4</td>\n",
       "      <td>0</td>\n",
       "      <td>Council of Europe bashes EU&amp;UN terror blacklist</td>\n",
       "      <td>False</td>\n",
       "      <td>mhermans</td>\n",
       "      <td>worldnews</td>\n",
       "    </tr>\n",
       "  </tbody>\n",
       "</table>\n",
       "</div>"
      ],
      "text/plain": [
       "   time_created date_created  up_votes  ...  over_18    author   category\n",
       "0    1201232046   2008-01-25         3  ...    False     polar  worldnews\n",
       "1    1201232075   2008-01-25         2  ...    False     polar  worldnews\n",
       "2    1201232523   2008-01-25         3  ...    False     polar  worldnews\n",
       "3    1201233290   2008-01-25         1  ...    False   fadi420  worldnews\n",
       "4    1201274720   2008-01-25         4  ...    False  mhermans  worldnews\n",
       "\n",
       "[5 rows x 8 columns]"
      ]
     },
     "execution_count": 36,
     "metadata": {
      "tags": []
     },
     "output_type": "execute_result"
    }
   ],
   "source": [
    "dataset = pd.read_csv(\"/content/Eluvio_DS_Challenge.csv\")\n",
    "dataset.head()"
   ]
  },
  {
   "cell_type": "code",
   "execution_count": 37,
   "metadata": {
    "colab": {
     "base_uri": "https://localhost:8080/"
    },
    "id": "1EMA8Ia3dSR8",
    "outputId": "469f9fb5-de9c-4c4b-8fb9-fac42b7791dd"
   },
   "outputs": [
    {
     "data": {
      "text/plain": [
       "509236"
      ]
     },
     "execution_count": 37,
     "metadata": {
      "tags": []
     },
     "output_type": "execute_result"
    }
   ],
   "source": [
    "len(dataset)"
   ]
  },
  {
   "cell_type": "code",
   "execution_count": 38,
   "metadata": {
    "colab": {
     "base_uri": "https://localhost:8080/"
    },
    "id": "_57ykQeydSR9",
    "outputId": "02b26039-a650-4fe5-af78-b671d42a5563"
   },
   "outputs": [
    {
     "name": "stdout",
     "output_type": "stream",
     "text": [
      "<class 'pandas.core.frame.DataFrame'>\n",
      "RangeIndex: 509236 entries, 0 to 509235\n",
      "Data columns (total 8 columns):\n",
      " #   Column        Non-Null Count   Dtype \n",
      "---  ------        --------------   ----- \n",
      " 0   time_created  509236 non-null  int64 \n",
      " 1   date_created  509236 non-null  object\n",
      " 2   up_votes      509236 non-null  int64 \n",
      " 3   down_votes    509236 non-null  int64 \n",
      " 4   title         509236 non-null  object\n",
      " 5   over_18       509236 non-null  bool  \n",
      " 6   author        509236 non-null  object\n",
      " 7   category      509236 non-null  object\n",
      "dtypes: bool(1), int64(3), object(4)\n",
      "memory usage: 27.7+ MB\n"
     ]
    }
   ],
   "source": [
    "dataset.info() # it looks like nulls donot exist in the dataset."
   ]
  },
  {
   "cell_type": "code",
   "execution_count": 39,
   "metadata": {
    "colab": {
     "base_uri": "https://localhost:8080/"
    },
    "id": "p9IseSYndSR9",
    "outputId": "5a81061c-7c07-44ab-c4ea-0b91dd5ec17a"
   },
   "outputs": [
    {
     "data": {
      "text/plain": [
       "davidreiss666     8897\n",
       "anutensil         5730\n",
       "DoremusJessup     5037\n",
       "maxwellhill       4023\n",
       "igeldard          4013\n",
       "                  ... \n",
       "ta9876543202         1\n",
       "BigMeatSpecial       1\n",
       "MaeveShearlaw        1\n",
       "freedomt             1\n",
       "guluarte             1\n",
       "Name: author, Length: 85838, dtype: int64"
      ]
     },
     "execution_count": 39,
     "metadata": {
      "tags": []
     },
     "output_type": "execute_result"
    }
   ],
   "source": [
    "dataset[\"author\"].value_counts() \n",
    "\n",
    "#It looks like the dataset has the (titles) posted by a different authors."
   ]
  },
  {
   "cell_type": "code",
   "execution_count": 40,
   "metadata": {
    "colab": {
     "base_uri": "https://localhost:8080/"
    },
    "id": "G97UBZ31dSR-",
    "outputId": "b6d268ca-f672-428c-b769-83198a07ed77"
   },
   "outputs": [
    {
     "name": "stdout",
     "output_type": "stream",
     "text": [
      "worldnews    509236\n",
      "Name: category, dtype: int64\n",
      "\n",
      " False    508916\n",
      "True        320\n",
      "Name: over_18, dtype: int64\n"
     ]
    }
   ],
   "source": [
    "print(dataset[\"category\"].value_counts()) \n",
    "#there is only one category and that is worldnews, so this variable won't help us in analytics\n",
    "\n",
    "print(\"\\n\",dataset[\"over_18\"].value_counts())\n",
    "#if we build a model with outcome as over_18, there will be a bias and predictions will be False as the count of False data is more."
   ]
  },
  {
   "cell_type": "code",
   "execution_count": 41,
   "metadata": {
    "colab": {
     "base_uri": "https://localhost:8080/",
     "height": 195
    },
    "id": "Nbz6TDavdSR_",
    "outputId": "ae4518d9-76a9-4c48-93c6-041aae6ebf2b"
   },
   "outputs": [
    {
     "data": {
      "text/html": [
       "<div>\n",
       "<style scoped>\n",
       "    .dataframe tbody tr th:only-of-type {\n",
       "        vertical-align: middle;\n",
       "    }\n",
       "\n",
       "    .dataframe tbody tr th {\n",
       "        vertical-align: top;\n",
       "    }\n",
       "\n",
       "    .dataframe thead th {\n",
       "        text-align: right;\n",
       "    }\n",
       "</style>\n",
       "<table border=\"1\" class=\"dataframe\">\n",
       "  <thead>\n",
       "    <tr style=\"text-align: right;\">\n",
       "      <th></th>\n",
       "      <th>time_created</th>\n",
       "      <th>date_created</th>\n",
       "      <th>up_votes</th>\n",
       "      <th>down_votes</th>\n",
       "      <th>title</th>\n",
       "      <th>over_18</th>\n",
       "      <th>author</th>\n",
       "      <th>category</th>\n",
       "      <th>text_length</th>\n",
       "    </tr>\n",
       "  </thead>\n",
       "  <tbody>\n",
       "    <tr>\n",
       "      <th>0</th>\n",
       "      <td>1201232046</td>\n",
       "      <td>2008-01-25</td>\n",
       "      <td>3</td>\n",
       "      <td>0</td>\n",
       "      <td>Scores killed in Pakistan clashes</td>\n",
       "      <td>False</td>\n",
       "      <td>polar</td>\n",
       "      <td>worldnews</td>\n",
       "      <td>33</td>\n",
       "    </tr>\n",
       "    <tr>\n",
       "      <th>1</th>\n",
       "      <td>1201232075</td>\n",
       "      <td>2008-01-25</td>\n",
       "      <td>2</td>\n",
       "      <td>0</td>\n",
       "      <td>Japan resumes refuelling mission</td>\n",
       "      <td>False</td>\n",
       "      <td>polar</td>\n",
       "      <td>worldnews</td>\n",
       "      <td>32</td>\n",
       "    </tr>\n",
       "    <tr>\n",
       "      <th>2</th>\n",
       "      <td>1201232523</td>\n",
       "      <td>2008-01-25</td>\n",
       "      <td>3</td>\n",
       "      <td>0</td>\n",
       "      <td>US presses Egypt on Gaza border</td>\n",
       "      <td>False</td>\n",
       "      <td>polar</td>\n",
       "      <td>worldnews</td>\n",
       "      <td>31</td>\n",
       "    </tr>\n",
       "    <tr>\n",
       "      <th>3</th>\n",
       "      <td>1201233290</td>\n",
       "      <td>2008-01-25</td>\n",
       "      <td>1</td>\n",
       "      <td>0</td>\n",
       "      <td>Jump-start economy: Give health care to all</td>\n",
       "      <td>False</td>\n",
       "      <td>fadi420</td>\n",
       "      <td>worldnews</td>\n",
       "      <td>44</td>\n",
       "    </tr>\n",
       "    <tr>\n",
       "      <th>4</th>\n",
       "      <td>1201274720</td>\n",
       "      <td>2008-01-25</td>\n",
       "      <td>4</td>\n",
       "      <td>0</td>\n",
       "      <td>Council of Europe bashes EU&amp;UN terror blacklist</td>\n",
       "      <td>False</td>\n",
       "      <td>mhermans</td>\n",
       "      <td>worldnews</td>\n",
       "      <td>47</td>\n",
       "    </tr>\n",
       "  </tbody>\n",
       "</table>\n",
       "</div>"
      ],
      "text/plain": [
       "   time_created date_created  up_votes  ...    author   category  text_length\n",
       "0    1201232046   2008-01-25         3  ...     polar  worldnews           33\n",
       "1    1201232075   2008-01-25         2  ...     polar  worldnews           32\n",
       "2    1201232523   2008-01-25         3  ...     polar  worldnews           31\n",
       "3    1201233290   2008-01-25         1  ...   fadi420  worldnews           44\n",
       "4    1201274720   2008-01-25         4  ...  mhermans  worldnews           47\n",
       "\n",
       "[5 rows x 9 columns]"
      ]
     },
     "execution_count": 41,
     "metadata": {
      "tags": []
     },
     "output_type": "execute_result"
    }
   ],
   "source": [
    "#let's add a new column which represents the number of characters used within each title\n",
    "\n",
    "dataset[\"text_length\"] = dataset[\"title\"].apply(len)\n",
    "dataset.head()"
   ]
  },
  {
   "cell_type": "markdown",
   "metadata": {
    "id": "fIIByyv5dSR_"
   },
   "source": [
    "# Exploratory Data Analysis"
   ]
  },
  {
   "cell_type": "code",
   "execution_count": 42,
   "metadata": {
    "id": "Srwk4qWHdSR_"
   },
   "outputs": [],
   "source": [
    "import matplotlib.pyplot as plt"
   ]
  },
  {
   "cell_type": "code",
   "execution_count": 43,
   "metadata": {
    "colab": {
     "base_uri": "https://localhost:8080/",
     "height": 281
    },
    "id": "VwFeHVOtdSSA",
    "outputId": "95482dce-a9bd-45b7-9bbb-64c906d4d2fa"
   },
   "outputs": [
    {
     "data": {
      "image/png": "[encoded data removed]",
      "text/plain": [
       "<Figure size 432x288 with 1 Axes>"
      ]
     },
     "metadata": {
      "needs_background": "light",
      "tags": []
     },
     "output_type": "display_data"
    }
   ],
   "source": [
    "plt.scatter(dataset[\"text_length\"], dataset[\"up_votes\"])\n",
    "plt.title(\"Text Length vs Up votes\")\n",
    "plt.show()"
   ]
  },
  {
   "cell_type": "code",
   "execution_count": 44,
   "metadata": {
    "colab": {
     "base_uri": "https://localhost:8080/",
     "height": 281
    },
    "id": "VzxvyQvDdSSB",
    "outputId": "527b4576-54ff-4061-d23d-990c1e1ab82d"
   },
   "outputs": [
    {
     "data": {
      "image/png": "[encoded data removed]",
      "text/plain": [
       "<Figure size 432x288 with 1 Axes>"
      ]
     },
     "metadata": {
      "needs_background": "light",
      "tags": []
     },
     "output_type": "display_data"
    }
   ],
   "source": [
    "plt.scatter(dataset[\"text_length\"], dataset[\"down_votes\"])\n",
    "plt.title(\"Text Length vs Down votes\")\n",
    "plt.show()\n",
    "\n",
    "#Based on the observattions, there are no downvotes for the titles. \n",
    "#So it doesn't make anysense in using this as predictor asit will not effect the outcome variable"
   ]
  },
  {
   "cell_type": "markdown",
   "metadata": {
    "id": "mE7rCsmUdSSC"
   },
   "source": [
    "**So the only variable that is dependent on title is up_votes.** "
   ]
  },
  {
   "cell_type": "markdown",
   "metadata": {
    "id": "VNtUaWi8dSSD"
   },
   "source": [
    "# NLP task"
   ]
  },
  {
   "cell_type": "code",
   "execution_count": 45,
   "metadata": {
    "id": "GLFezhr1dSSE"
   },
   "outputs": [],
   "source": [
    "import tensorflow as tf\n",
    "\n",
    "from sklearn.feature_extraction.text import CountVectorizer\n",
    "from sklearn.model_selection import train_test_split\n",
    "\n",
    "from sklearn.linear_model import LinearRegression, RidgeCV\n",
    "from sklearn.neighbors import KNeighborsRegressor\n",
    "from sklearn.ensemble import GradientBoostingRegressor \n",
    "\n",
    "from sklearn.metrics import mean_squared_error, r2_score, mean_absolute_error\n",
    "from sklearn.externals import joblib"
   ]
  },
  {
   "cell_type": "code",
   "execution_count": 46,
   "metadata": {
    "id": "B0NynJVZdSSF"
   },
   "outputs": [],
   "source": [
    "X = dataset[\"title\"] #predictor variable\n",
    "y = dataset[\"up_votes\"] #outcome variable"
   ]
  },
  {
   "cell_type": "code",
   "execution_count": 47,
   "metadata": {
    "colab": {
     "base_uri": "https://localhost:8080/"
    },
    "id": "15W6NZCSdSSG",
    "outputId": "6077aaff-033e-4f8a-be2d-bd0fcce7dd4d"
   },
   "outputs": [
    {
     "name": "stdout",
     "output_type": "stream",
     "text": [
      "0                  Scores killed in Pakistan clashes\n",
      "1                   Japan resumes refuelling mission\n",
      "2                    US presses Egypt on Gaza border\n",
      "3       Jump-start economy: Give health care to all \n",
      "4    Council of Europe bashes EU&UN terror blacklist\n",
      "Name: title, dtype: object\n"
     ]
    }
   ],
   "source": [
    "print(X.head())"
   ]
  },
  {
   "cell_type": "markdown",
   "metadata": {
    "id": "ypxayOSgdSSG"
   },
   "source": [
    "**The CountVectorizer converts the text to tokens and performs feature extraction (vectorization)**"
   ]
  },
  {
   "cell_type": "code",
   "execution_count": 48,
   "metadata": {
    "id": "3Tor95QNdSSH"
   },
   "outputs": [],
   "source": [
    "#creating an object for CountVectorizer\n",
    "cv = CountVectorizer()\n",
    "\n",
    "#transforming the data into tokens\n",
    "X = cv.fit_transform(X)"
   ]
  },
  {
   "cell_type": "code",
   "execution_count": 49,
   "metadata": {
    "colab": {
     "base_uri": "https://localhost:8080/"
    },
    "id": "YE9x-gePdSSH",
    "outputId": "85d9982f-062b-47e5-a67d-e3ff98b81973"
   },
   "outputs": [
    {
     "data": {
      "text/plain": [
       "scipy.sparse.csr.csr_matrix"
      ]
     },
     "execution_count": 49,
     "metadata": {
      "tags": []
     },
     "output_type": "execute_result"
    }
   ],
   "source": [
    "type(X) #words are parsed and converted to tokens, and the matrix has been created"
   ]
  },
  {
   "cell_type": "markdown",
   "metadata": {
    "id": "FLy9IUvydSSH"
   },
   "source": [
    "**Train test split**"
   ]
  },
  {
   "cell_type": "code",
   "execution_count": 50,
   "metadata": {
    "id": "8jsVsu-wdSSI"
   },
   "outputs": [],
   "source": [
    "X_train, X_test, y_train, y_test = train_test_split(X,y,test_size=0.2, random_state=101)"
   ]
  },
  {
   "cell_type": "markdown",
   "metadata": {
    "id": "XTWSuCMidSSJ"
   },
   "source": [
    "**Training a model**"
   ]
  },
  {
   "cell_type": "markdown",
   "metadata": {
    "id": "GFFlIwlvdSSJ"
   },
   "source": [
    "let's try out different regression models (both linear and non linear) to obtain the best fit model."
   ]
  },
  {
   "cell_type": "code",
   "execution_count": 17,
   "metadata": {
    "colab": {
     "base_uri": "https://localhost:8080/"
    },
    "id": "E5wavCVMdSSK",
    "outputId": "dd087875-e54b-4b4d-fb05-38d4046ebd13"
   },
   "outputs": [
    {
     "data": {
      "text/plain": [
       "LinearRegression(copy_X=True, fit_intercept=True, n_jobs=None, normalize=False)"
      ]
     },
     "execution_count": 17,
     "metadata": {
      "tags": []
     },
     "output_type": "execute_result"
    }
   ],
   "source": [
    "with tf.device('/device:GPU:0'):\n",
    "  lin_mod = LinearRegression()\n",
    "\n",
    "  lin_mod.fit(X_train,y_train)"
   ]
  },
  {
   "cell_type": "code",
   "execution_count": 20,
   "metadata": {
    "id": "1EjM9h5dmqQz"
   },
   "outputs": [],
   "source": [
    "with tf.device('/device:GPU:0'):\n",
    "  ridge = RidgeCV(cv=10)\n",
    "\n",
    "  ridge.fit(X_train,y_train)"
   ]
  },
  {
   "cell_type": "code",
   "execution_count": 51,
   "metadata": {
    "id": "6Vj3zfBZlPun"
   },
   "outputs": [],
   "source": [
    "with tf.device('/device:GPU:0'):\n",
    "  knnReg = KNeighborsRegressor()\n",
    "  knnReg.fit(X_train,y_train)"
   ]
  },
  {
   "cell_type": "code",
   "execution_count": 24,
   "metadata": {
    "id": "3nU6YfR_p-1J"
   },
   "outputs": [],
   "source": [
    "with tf.device('/device:GPU:0'):\n",
    "  gb_reg = GradientBoostingRegressor(n_estimators=70, max_depth=5)\n",
    "  gb_reg.fit(X_train,y_train)"
   ]
  },
  {
   "cell_type": "markdown",
   "metadata": {
    "id": "AbCAI-NPdSSL"
   },
   "source": [
    "**Saving the models**"
   ]
  },
  {
   "cell_type": "code",
   "execution_count": 18,
   "metadata": {
    "colab": {
     "base_uri": "https://localhost:8080/"
    },
    "id": "F5ns_xnidSSL",
    "outputId": "0d4ad295-3e22-4671-ad9d-7b5650dbba87"
   },
   "outputs": [
    {
     "data": {
      "text/plain": [
       "['Linear model.pkl']"
      ]
     },
     "execution_count": 18,
     "metadata": {
      "tags": []
     },
     "output_type": "execute_result"
    }
   ],
   "source": [
    "joblib.dump(lin_mod, \"Linear model.pkl\")"
   ]
  },
  {
   "cell_type": "code",
   "execution_count": 21,
   "metadata": {
    "colab": {
     "base_uri": "https://localhost:8080/"
    },
    "id": "7yMgIeqddSSM",
    "outputId": "58b3f06d-7273-4c86-f2fe-edf5c4db2231"
   },
   "outputs": [
    {
     "data": {
      "text/plain": [
       "['Ridge model.pkl']"
      ]
     },
     "execution_count": 21,
     "metadata": {
      "tags": []
     },
     "output_type": "execute_result"
    }
   ],
   "source": [
    "joblib.dump(ridge, \"Ridge model.pkl\")"
   ]
  },
  {
   "cell_type": "code",
   "execution_count": 52,
   "metadata": {
    "colab": {
     "base_uri": "https://localhost:8080/"
    },
    "id": "lNMPfM_3luXZ",
    "outputId": "5fbf64c7-c96e-491a-d688-27ff9169f6ce"
   },
   "outputs": [
    {
     "data": {
      "text/plain": [
       "['knn regression model.pkl']"
      ]
     },
     "execution_count": 52,
     "metadata": {
      "tags": []
     },
     "output_type": "execute_result"
    }
   ],
   "source": [
    "joblib.dump(knnReg, \"knn regression model.pkl\")"
   ]
  },
  {
   "cell_type": "code",
   "execution_count": 25,
   "metadata": {
    "colab": {
     "base_uri": "https://localhost:8080/"
    },
    "id": "KwJzTjKSqe1m",
    "outputId": "30b539bf-1a30-40e5-f76c-f7476e8c7bfb"
   },
   "outputs": [
    {
     "data": {
      "text/plain": [
       "['GradientBoosting model.pkl']"
      ]
     },
     "execution_count": 25,
     "metadata": {
      "tags": []
     },
     "output_type": "execute_result"
    }
   ],
   "source": [
    "joblib.dump(gb_reg, \"GradientBoosting model.pkl\")"
   ]
  },
  {
   "cell_type": "markdown",
   "metadata": {
    "id": "vce-ISGLGdeB"
   },
   "source": [
    "**Loading the saved models**"
   ]
  },
  {
   "cell_type": "code",
   "execution_count": 20,
   "metadata": {
    "id": "DWi3dAGPGbA1"
   },
   "outputs": [],
   "source": [
    "ridge = joblib.load(\"/content/Ridge model.pkl\")"
   ]
  },
  {
   "cell_type": "markdown",
   "metadata": {
    "id": "L7k3so8PdSSM"
   },
   "source": [
    "**Prediction and Evaluation of model**"
   ]
  },
  {
   "cell_type": "code",
   "execution_count": 19,
   "metadata": {
    "id": "rYsA3_LldSSM"
   },
   "outputs": [],
   "source": [
    "linModel_pred = lin_mod.predict(X_test)"
   ]
  },
  {
   "cell_type": "code",
   "execution_count": 20,
   "metadata": {
    "colab": {
     "base_uri": "https://localhost:8080/"
    },
    "id": "ZEoubXGHdSSM",
    "outputId": "f206b29b-3aa1-44de-eff9-3f9048f31e85"
   },
   "outputs": [
    {
     "name": "stdout",
     "output_type": "stream",
     "text": [
      "Mean squared error =  342505.1838464808\n",
      "R square =  -0.1725680893396102\n",
      "Mean Absolute error =  246.95191398082986\n"
     ]
    }
   ],
   "source": [
    "MSE = mean_squared_error(y_test,linModel_pred)\n",
    "R2 = r2_score(y_test,linModel_pred)\n",
    "MAE = mean_absolute_error(y_test,linModel_pred)\n",
    "\n",
    "print(\"Mean squared error = \",MSE)\n",
    "print(\"R square = \",R2)\n",
    "print(\"Mean Absolute error = \",MAE)"
   ]
  },
  {
   "cell_type": "code",
   "execution_count": 22,
   "metadata": {
    "id": "UxGgwDvQiOZ7"
   },
   "outputs": [],
   "source": [
    "ridgeModel_pred = ridge.predict(X_test)"
   ]
  },
  {
   "cell_type": "code",
   "execution_count": 23,
   "metadata": {
    "colab": {
     "base_uri": "https://localhost:8080/"
    },
    "id": "RbnCCQOAiPPH",
    "outputId": "920b73f0-fd8d-42b7-ab9f-689e54828f6b"
   },
   "outputs": [
    {
     "name": "stdout",
     "output_type": "stream",
     "text": [
      "Mean squared error =  287680.4786238173\n",
      "R square =  0.015124543891775422\n",
      "Mean Absolute error =  204.04284569290039\n"
     ]
    }
   ],
   "source": [
    "MSE = mean_squared_error(y_test,ridgeModel_pred)\n",
    "R2 = r2_score(y_test,ridgeModel_pred)\n",
    "MAE = mean_absolute_error(y_test,ridgeModel_pred)\n",
    "\n",
    "print(\"Mean squared error = \",MSE)\n",
    "print(\"R square = \",R2)\n",
    "print(\"Mean Absolute error = \",MAE)"
   ]
  },
  {
   "cell_type": "code",
   "execution_count": 20,
   "metadata": {
    "id": "JAD8-ZAil4oW"
   },
   "outputs": [],
   "source": [
    "with tf.device('/device:GPU:0'):\n",
    "  knnRegModel_pred = knnReg.predict(X_test)"
   ]
  },
  {
   "cell_type": "code",
   "execution_count": 22,
   "metadata": {
    "colab": {
     "base_uri": "https://localhost:8080/"
    },
    "id": "esAYIuy5mJwn",
    "outputId": "643e0f9f-a3da-4414-a5d3-fdd2f6865dce"
   },
   "outputs": [
    {
     "name": "stdout",
     "output_type": "stream",
     "text": [
      "Mean squared error =  315731.3506519519\n",
      "Root Mean squared error =  561.8997692221914\n",
      "R square =  -0.08090774691606972\n",
      "Mean Absolute error =  166.93617154976042\n"
     ]
    }
   ],
   "source": [
    "knnReg_MSE = mean_squared_error(y_test,knnRegModel_pred)\n",
    "knnReg_RMSE = np.sqrt(knnReg_MSE)\n",
    "knnReg_R2 = r2_score(y_test,knnRegModel_pred)\n",
    "knnReg_MAE = mean_absolute_error(y_test,knnRegModel_pred)\n",
    "\n",
    "print(\"Mean squared error = \",knnReg_MSE)\n",
    "print(\"Root Mean squared error = \",knnReg_RMSE)\n",
    "print(\"R square = \",knnReg_R2)\n",
    "print(\"Mean Absolute error = \",knnReg_MAE)"
   ]
  },
  {
   "cell_type": "code",
   "execution_count": 26,
   "metadata": {
    "id": "ptdC_2m6yoZE"
   },
   "outputs": [],
   "source": [
    "with tf.device('/device:GPU:0'):\n",
    "  gbRegModel_pred = gb_reg.predict(X_test)"
   ]
  },
  {
   "cell_type": "code",
   "execution_count": 27,
   "metadata": {
    "colab": {
     "base_uri": "https://localhost:8080/"
    },
    "id": "RwJkqvGAyqJq",
    "outputId": "e4c13f12-adba-43c3-deec-1591e3623d9b"
   },
   "outputs": [
    {
     "name": "stdout",
     "output_type": "stream",
     "text": [
      "Mean squared error =  288457.00780725706\n",
      "Root Mean squared error =  537.081937703417\n",
      "R square =  0.012466092621880143\n",
      "Mean Absolute error =  180.86662126599396\n"
     ]
    }
   ],
   "source": [
    "gb_reg_MSE = mean_squared_error(y_test,gbRegModel_pred)\n",
    "gb_reg_RMSE = np.sqrt(gb_reg_MSE)\n",
    "gb_reg_R2 = r2_score(y_test,gbRegModel_pred)\n",
    "gb_reg_MAE = mean_absolute_error(y_test,gbRegModel_pred)\n",
    "\n",
    "print(\"Mean squared error = \",gb_reg_MSE)\n",
    "print(\"Root Mean squared error = \",gb_reg_RMSE)\n",
    "print(\"R square = \",gb_reg_R2)\n",
    "print(\"Mean Absolute error = \",gb_reg_MAE)"
   ]
  },
  {
   "cell_type": "markdown",
   "metadata": {
    "id": "sqNu4_OQxJi6"
   },
   "source": [
    "**Based on the calculated metrics using both linear and non linear models, it looks like only the title as predictor is not enough for making accurate predictions of up votes (outcome) as it can be observed that the R^2 is not more than 1.5%**"
   ]
  },
  {
   "cell_type": "code",
   "execution_count": null,
   "metadata": {
    "id": "QuM8iETgxHuL"
   },
   "outputs": [],
   "source": []
  }
 ],
 "metadata": {
  "accelerator": "GPU",
  "colab": {
   "collapsed_sections": [],
   "name": "Upvotes prediction using NLP.ipynb",
   "provenance": []
  },
  "kernelspec": {
   "display_name": "Python 3",
   "language": "python",
   "name": "python3"
  },
  "language_info": {
   "codemirror_mode": {
    "name": "ipython",
    "version": 3
   },
   "file_extension": ".py",
   "mimetype": "text/x-python",
   "name": "python",
   "nbconvert_exporter": "python",
   "pygments_lexer": "ipython3",
   "version": "3.7.4"
  }
 },
 "nbformat": 4,
 "nbformat_minor": 1
}
